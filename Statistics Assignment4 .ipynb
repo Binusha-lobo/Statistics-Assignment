{
 "cells": [
  {
   "cell_type": "markdown",
   "metadata": {},
   "source": [
    "# Statistics Assignments 4"
   ]
  },
  {
   "cell_type": "markdown",
   "metadata": {},
   "source": [
    "Problem Statement 1:\n",
    "\n",
    "    Is gender independent of education level? A random sample of 395 people were\n",
    "    surveyed and each person was asked to report the highest education level they obtained.\n",
    "    The data that resulted from the survey is summarized in the following table:\n",
    "    \n",
    "                HighSchool Bachelors Masters  Ph.d. Total\n",
    "        Female     60       54        46       41    201\n",
    "        Male       40       44        53       57    194\n",
    "        Total     100       98        99       98    395\n",
    "\n",
    "Question: \n",
    "    Are gender and education level dependent at 5% level of significance? In other words, \n",
    "    given the data collected above, is there a relationship between the\n",
    "    gender of an individual and the level of education that they have obtained?"
   ]
  },
  {
   "cell_type": "markdown",
   "metadata": {},
   "source": [
    "We use chi-square test for independence with the help of the above data."
   ]
  },
  {
   "cell_type": "markdown",
   "metadata": {},
   "source": [
    "    Null Hypothesis H0 : Gender of an indiviual and level of education are independent.\n",
    "    Alternative Hypothesis H1 : Gender of an indiviual and level of education are dependent."
   ]
  },
  {
   "cell_type": "code",
   "execution_count": null,
   "metadata": {},
   "outputs": [],
   "source": [
    "import scipy.stats as st\n",
    "import numpy as np\n",
    "import pandas as pd"
   ]
  },
  {
   "cell_type": "code",
   "execution_count": 8,
   "metadata": {},
   "outputs": [
    {
     "name": "stdout",
     "output_type": "stream",
     "text": [
      "Null Hypothesis is rejected\n",
      "Gender of an indiviual and level of education are dependent.\n"
     ]
    }
   ],
   "source": [
    "import scipy.stats as st\n",
    "import numpy as np\n",
    "import pandas as pd\n",
    "alpha=0.05\n",
    "chi2,p,dof,expected=st.chi2_contingency([[60,54,46,41],[40,44,53,57]])\n",
    "df=pd.DataFrame(np.array([[60,54,46,41],expected[0],[40,44,53,57],expected[1]]),\n",
    "                columns=['High School','Bachelors','Masters','Ph.d'],index=['Female','Exp_Female','Male','Exp_male'])\n",
    "if p<alpha:\n",
    "    print(\"Null Hypothesis is rejected\")\n",
    "    print(\"Gender of an indiviual and level of education are dependent.\")\n",
    "else:\n",
    "    print(\"Null Hypothesis is accepted\")\n",
    "    print(\"Gender of an indiviual and level of education are independent.\")"
   ]
  },
  {
   "cell_type": "code",
   "execution_count": 9,
   "metadata": {},
   "outputs": [
    {
     "data": {
      "text/html": [
       "<div>\n",
       "<style scoped>\n",
       "    .dataframe tbody tr th:only-of-type {\n",
       "        vertical-align: middle;\n",
       "    }\n",
       "\n",
       "    .dataframe tbody tr th {\n",
       "        vertical-align: top;\n",
       "    }\n",
       "\n",
       "    .dataframe thead th {\n",
       "        text-align: right;\n",
       "    }\n",
       "</style>\n",
       "<table border=\"1\" class=\"dataframe\">\n",
       "  <thead>\n",
       "    <tr style=\"text-align: right;\">\n",
       "      <th></th>\n",
       "      <th>High School</th>\n",
       "      <th>Bachelors</th>\n",
       "      <th>Masters</th>\n",
       "      <th>Ph.d</th>\n",
       "    </tr>\n",
       "  </thead>\n",
       "  <tbody>\n",
       "    <tr>\n",
       "      <th>Female</th>\n",
       "      <td>60.000000</td>\n",
       "      <td>54.000000</td>\n",
       "      <td>46.000000</td>\n",
       "      <td>41.000000</td>\n",
       "    </tr>\n",
       "    <tr>\n",
       "      <th>Exp_Female</th>\n",
       "      <td>50.886076</td>\n",
       "      <td>49.868354</td>\n",
       "      <td>50.377215</td>\n",
       "      <td>49.868354</td>\n",
       "    </tr>\n",
       "    <tr>\n",
       "      <th>Male</th>\n",
       "      <td>40.000000</td>\n",
       "      <td>44.000000</td>\n",
       "      <td>53.000000</td>\n",
       "      <td>57.000000</td>\n",
       "    </tr>\n",
       "    <tr>\n",
       "      <th>Exp_male</th>\n",
       "      <td>49.113924</td>\n",
       "      <td>48.131646</td>\n",
       "      <td>48.622785</td>\n",
       "      <td>48.131646</td>\n",
       "    </tr>\n",
       "  </tbody>\n",
       "</table>\n",
       "</div>"
      ],
      "text/plain": [
       "            High School  Bachelors    Masters       Ph.d\n",
       "Female        60.000000  54.000000  46.000000  41.000000\n",
       "Exp_Female    50.886076  49.868354  50.377215  49.868354\n",
       "Male          40.000000  44.000000  53.000000  57.000000\n",
       "Exp_male      49.113924  48.131646  48.622785  48.131646"
      ]
     },
     "execution_count": 9,
     "metadata": {},
     "output_type": "execute_result"
    }
   ],
   "source": [
    "df"
   ]
  },
  {
   "cell_type": "markdown",
   "metadata": {},
   "source": [
    "Problem Statement 2:\n",
    "\n",
    "    Using the following data, perform a oneway analysis of variance using α=.05. Write\n",
    "    up the results in APA format.\n",
    "\n",
    "        [Group1: 51, 45, 33, 45, 67]\n",
    "        [Group2: 23, 43, 23, 43, 45]\n",
    "        [Group3: 56, 76, 74, 87, 56]"
   ]
  },
  {
   "cell_type": "markdown",
   "metadata": {},
   "source": [
    "    H0: Mean is equal in all the groups. Mean1=Mean2=Mean3\n",
    "    H1: Mean differes in all the groups. Mean1!=Mean2!=Mean3"
   ]
  },
  {
   "cell_type": "code",
   "execution_count": 28,
   "metadata": {},
   "outputs": [
    {
     "name": "stdout",
     "output_type": "stream",
     "text": [
      "f value =  9.747205503009463\n",
      "p value =  0.0030597541434430556\n"
     ]
    }
   ],
   "source": [
    "alpha=0.05\n",
    "group1=[51, 45, 33, 45, 67]\n",
    "group2=[23, 43, 23, 43, 45]\n",
    "group3=[56, 76, 74, 87, 56]\n",
    "\n",
    "f_value ,p_value = st.f_oneway(group1, group2, group3)\n",
    "print(\"f_value = \",f_value)\n",
    "print(\"p_value = \",p_value)"
   ]
  },
  {
   "cell_type": "code",
   "execution_count": 38,
   "metadata": {},
   "outputs": [
    {
     "name": "stdout",
     "output_type": "stream",
     "text": [
      "Null Hypothesis is accepted\n",
      "Hypothesis rejected as per p_value\n",
      "Conclusion : Mean differes in all the groups. Mean1!=Mean2!=Mean3\n"
     ]
    }
   ],
   "source": [
    "p = 1-alpha\n",
    "k=3\n",
    "n = k*len(group1)\n",
    "ssw = n-k #Sum of the squares within the samples\n",
    "ssb = k-1 #Sum of the squares between the samples\n",
    "critical_value=st.f.ppf(p, ssw, ssb)\n",
    "\n",
    "if abs(f_value)>critical_value:\n",
    "    print(\"Null Hypothesis is rejected\")\n",
    "else:\n",
    "    print(\"Null Hypothesis is accepted\")\n",
    "\n",
    "if p_value<alpha:\n",
    "    print(\"Hypothesis rejected as per p_value\")\n",
    "    print(\"Conclusion : Mean differes in all the groups. Mean1!=Mean2!=Mean3\")\n",
    "else:\n",
    "    print(\"Hypothesis accepted as per p_value\")\n",
    "    print(\"Conclusion : Mean is equal in all the groups. Mean1=Mean2=Mean3\")"
   ]
  },
  {
   "cell_type": "markdown",
   "metadata": {},
   "source": [
    "Problem Statement 3:\n",
    "    \n",
    "    Calculate F Test for given 10, 20, 30, 40, 50 and 5,10,15, 20, 25.\n",
    "    For 10, 20, 30, 40, 50:"
   ]
  },
  {
   "cell_type": "code",
   "execution_count": 37,
   "metadata": {},
   "outputs": [
    {
     "name": "stdout",
     "output_type": "stream",
     "text": [
      "F-value : 3.6\n",
      "p-value : 0.0943497728424377\n"
     ]
    }
   ],
   "source": [
    "data_1=[10,20,30,40,50]\n",
    "data_2=[5,10,15,20,25]\n",
    "f,p=st.f_oneway(data_1,data_2)\n",
    "print(\"F-value :\",f)\n",
    "print(\"p-value :\",p)"
   ]
  },
  {
   "cell_type": "code",
   "execution_count": null,
   "metadata": {},
   "outputs": [],
   "source": []
  }
 ],
 "metadata": {
  "kernelspec": {
   "display_name": "Python 3",
   "language": "python",
   "name": "python3"
  },
  "language_info": {
   "codemirror_mode": {
    "name": "ipython",
    "version": 3
   },
   "file_extension": ".py",
   "mimetype": "text/x-python",
   "name": "python",
   "nbconvert_exporter": "python",
   "pygments_lexer": "ipython3",
   "version": "3.7.1"
  }
 },
 "nbformat": 4,
 "nbformat_minor": 2
}
