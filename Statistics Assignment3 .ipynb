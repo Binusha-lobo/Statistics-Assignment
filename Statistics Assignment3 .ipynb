{
 "cells": [
  {
   "cell_type": "markdown",
   "metadata": {},
   "source": [
    "# Statistics Assigment 3"
   ]
  },
  {
   "cell_type": "markdown",
   "metadata": {},
   "source": [
    "Problem Statement 1:\n",
    "\n",
    "    Blood glucose levels for obese patients have a mean of 100 with a standard deviation of 15.\n",
    "    A researcher thinks that a diet high in raw cornstarch will have a positive effect on blood glucose levels.\n",
    "    A sample of 36 patients who have tried the raw cornstarch diet have a mean glucose level of 108.\n",
    "    Test the hypothesis that the raw cornstarch had an effect or not."
   ]
  },
  {
   "cell_type": "markdown",
   "metadata": {},
   "source": [
    "Since the sample size >30,so z test ia used"
   ]
  },
  {
   "cell_type": "code",
   "execution_count": 2,
   "metadata": {},
   "outputs": [
    {
     "name": "stdout",
     "output_type": "stream",
     "text": [
      "Null Hypothesis is rejected\n",
      "The raw cornstarch has an effect\n"
     ]
    }
   ],
   "source": [
    "import scipy.stats as st\n",
    "import numpy as np\n",
    "\n",
    "def z_stat(sample_mean,population_mean,se):\n",
    "    return (sample_mean-population_mean)/se\n",
    "def sample_error(std,n):\n",
    "    return std/(np.sqrt(n))\n",
    "alpha=0.05\n",
    "z=z_stat(sample_mean=108,population_mean=100,se=sample_error(std=15,n=36))\n",
    "p=2*(1-st.norm.cdf(np.absolute(z)))\n",
    "if p<alpha:\n",
    "    print(\"Null Hypothesis is rejected\")\n",
    "    print(\"The raw cornstarch has an effect\")\n",
    "else:\n",
    "    print(\"Null Hypothesis is accepted\")\n",
    "    print(\"The raw cornstarch has no effect\")"
   ]
  },
  {
   "cell_type": "markdown",
   "metadata": {},
   "source": [
    "Problem Statement 2:\n",
    "\n",
    "    In one state, 52% of the voters are Republicans, and 48% are Democrats. \n",
    "    In a second state, 47% of the voters are Republicans, and 53% are Democrats.\n",
    "    Suppose a simple random sample of 100 voters are surveyed from each state.\n",
    "    What is the probability that the survey will show a greater percentage of Republican\n",
    "    voters in the second state than in the first state?"
   ]
  },
  {
   "cell_type": "markdown",
   "metadata": {},
   "source": [
    "    H0 :  p1 >= p2\n",
    "    H1 :  p1  < p2"
   ]
  },
  {
   "cell_type": "code",
   "execution_count": 3,
   "metadata": {},
   "outputs": [
    {
     "data": {
      "text/plain": [
       "0.7080278164104213"
      ]
     },
     "execution_count": 3,
     "metadata": {},
     "output_type": "execute_result"
    }
   ],
   "source": [
    "import numpy as np\n",
    "import scipy.stats as st\n",
    "\n",
    "def z_stats(p1,p2,n1,n2,D=0): #D = difference in population proportion\n",
    "    numerator = (p1-p2)-D\n",
    "    denominator = np.sqrt(p1*(1-p1)/n1 +p2*(1-p2)/n2)\n",
    "    z_value = numerator/denominator\n",
    "    return z_value\n",
    "\n",
    "p1 = 0.52\n",
    "p2 = 0.47\n",
    "n1 = 100\n",
    "n2 = 100\n",
    "z_stats = z_stats(p1,p2,n1,n2)\n",
    "z_stats"
   ]
  },
  {
   "cell_type": "code",
   "execution_count": 4,
   "metadata": {},
   "outputs": [
    {
     "name": "stdout",
     "output_type": "stream",
     "text": [
      "Probability of greater percentage of Republican voters in second state than in first state is 0.23946399182220013\n"
     ]
    }
   ],
   "source": [
    "p_value=1 - st.norm.cdf(abs(z_stats))\n",
    "print(\"Probability of greater percentage of Republican voters in second state than in first state is {}\".format(p_value))"
   ]
  },
  {
   "cell_type": "markdown",
   "metadata": {},
   "source": [
    "Problem Statement 3:\n",
    "\n",
    "        You take the SAT and score 1100. The mean score for the SAT is 1026 and the standard\n",
    "    deviation is 209. How well did you score on the test compared to the average test taker?"
   ]
  },
  {
   "cell_type": "code",
   "execution_count": 5,
   "metadata": {},
   "outputs": [
    {
     "name": "stdout",
     "output_type": "stream",
     "text": [
      "Score on the test compared to the average test taker is : 0.35406698564593303\n"
     ]
    }
   ],
   "source": [
    "def z_stat(sample_mean,population_mean,se):\n",
    "    return (sample_mean-population_mean)/se\n",
    "z=z_stat(sample_mean=1100,population_mean=1026,se=sample_error(std=209,n=1))\n",
    "print(\"Score on the test compared to the average test taker is :\",z)"
   ]
  },
  {
   "cell_type": "code",
   "execution_count": null,
   "metadata": {},
   "outputs": [],
   "source": []
  }
 ],
 "metadata": {
  "kernelspec": {
   "display_name": "Python 3",
   "language": "python",
   "name": "python3"
  },
  "language_info": {
   "codemirror_mode": {
    "name": "ipython",
    "version": 3
   },
   "file_extension": ".py",
   "mimetype": "text/x-python",
   "name": "python",
   "nbconvert_exporter": "python",
   "pygments_lexer": "ipython3",
   "version": "3.7.1"
  }
 },
 "nbformat": 4,
 "nbformat_minor": 2
}
