{
 "cells": [
  {
   "cell_type": "markdown",
   "metadata": {},
   "source": [
    "# Statistics Assignment 1"
   ]
  },
  {
   "cell_type": "code",
   "execution_count": 3,
   "metadata": {},
   "outputs": [],
   "source": [
    "import numpy as np\n",
    "import matplotlib.pyplot as plt\n",
    "import seaborn as sns\n",
    "import scipy.stats as st\n",
    "from scipy.integrate import quad"
   ]
  },
  {
   "cell_type": "markdown",
   "metadata": {},
   "source": [
    "Calculate the mean, median, mode and standard deviation for the problem statements 1& 2."
   ]
  },
  {
   "cell_type": "markdown",
   "metadata": {},
   "source": [
    "Problem Statement 1:\n",
    "    \n",
    "    The marks awarded for an assignment set for a Year 8 class of 20 students were as follows:\n",
    "    6 7 5 7 7 8 7 6 9 7 4 10 6 8 8 9 5 6 4 8"
   ]
  },
  {
   "cell_type": "code",
   "execution_count": 4,
   "metadata": {},
   "outputs": [
    {
     "name": "stdout",
     "output_type": "stream",
     "text": [
      "Mean = 6.85\n",
      "Median = 7.0 \n",
      "Standard deviation = 1.5898113095584647\n"
     ]
    }
   ],
   "source": [
    "data=np.array([6,7,5,7,7,8,7,6,9,7,4,10,6,8,8,9,5,6,4,8])\n",
    "mean=np.mean(data)\n",
    "median=np.median(data)\n",
    "std=np.std(data)\n",
    "print(\"Mean = {}\".format(mean))\n",
    "print(\"Median = {} \".format(median))\n",
    "print(\"Standard deviation = {}\".format(std))"
   ]
  },
  {
   "cell_type": "markdown",
   "metadata": {},
   "source": [
    "Problem Statement 2:\n",
    "\n",
    "    The number of calls from motorists per day for roadside service was recorded for a  particular month: \n",
    "    28, 122, 217, 130, 120, 86, 80, 90, 140, 120, 70, 40, 145, 113, 90, 68, 174, 194, 170,  100, 75, 104, 97, 75, \n",
    "    123, 100, 75, 104, 97, 75, 123, 100, 89, 120, 109 "
   ]
  },
  {
   "cell_type": "code",
   "execution_count": 5,
   "metadata": {},
   "outputs": [
    {
     "name": "stdout",
     "output_type": "stream",
     "text": [
      "Mean = 107.51428571428572\n",
      "Median = 100.0 \n",
      "Standard deviation = 38.77287080168403\n"
     ]
    }
   ],
   "source": [
    "data=np.array([28,122,217,130,120,86,80,90,140,120,70,40,145,113,90,68,174,194,170,100, \n",
    "               75, 104, 97, 75, 123, 100, 75, 104, 97, 75, 123, 100, 89, 120, 109])\n",
    "mean=np.mean(data)\n",
    "median=np.median(data)\n",
    "std=np.std(data)\n",
    "print(\"Mean = {}\".format(mean))\n",
    "print(\"Median = {} \".format(median))\n",
    "print(\"Standard deviation = {}\".format(std))"
   ]
  },
  {
   "cell_type": "markdown",
   "metadata": {},
   "source": [
    "Problem Statement 3:\n",
    "    \n",
    "    The number of times I go to the gym in weekdays, are given below along with its  associated probability: \n",
    "    x = 0, 1, 2, 3, 4, 5 \n",
    "    f(x) = 0.09, 0.15, 0.40, 0.25, 0.10, 0.01 \n",
    "    Calculate the mean no. of workouts in a week. Also evaluate the variance involved in  it. "
   ]
  },
  {
   "cell_type": "code",
   "execution_count": 6,
   "metadata": {},
   "outputs": [
    {
     "name": "stdout",
     "output_type": "stream",
     "text": [
      "Mean no.of workouts in a week = 2.15\n",
      "Variance = 1.2275\n"
     ]
    }
   ],
   "source": [
    "x=[0,1,2,3,4,5]\n",
    "fx=[0.09,0.15,0.40,0.25,0.10,0.01]\n",
    "avg=0\n",
    "var=0\n",
    "for i,j in zip(x,fx):\n",
    "    avg=avg+i*j\n",
    "for i,j in zip(x,fx):\n",
    "    var=var+(((i-avg)**2)*j)\n",
    "print(\"Mean no.of workouts in a week = {}\".format(avg))\n",
    "print(\"Variance = {}\".format(var))"
   ]
  },
  {
   "cell_type": "markdown",
   "metadata": {},
   "source": [
    "Problem Statement 4:\n",
    "\n",
    "    Let the continuous random variable D denote the diameter of the hole drilled in analuminum sheet.\n",
    "    The target diameter to be achieved is 12.5mm.Random disturbances in the process often result in inaccuracy.\n",
    "    Historical data shows that the distribution of D can be modelled by the PDF (d) =20e−20(d−12.5), d ≥ 12.5. \n",
    "    If a part with diameter > 12.6 mm needs to be scrapped,\n",
    "    what is the proportion of those parts? \n",
    "    What is the CDF when the diameter is of 11mm?\n",
    "    What is your conclusion regarding the proportion of scraps?"
   ]
  },
  {
   "cell_type": "code",
   "execution_count": 7,
   "metadata": {},
   "outputs": [
    {
     "ename": "NameError",
     "evalue": "name 'quad' is not defined",
     "output_type": "error",
     "traceback": [
      "\u001b[1;31m---------------------------------------------------------------------------\u001b[0m",
      "\u001b[1;31mNameError\u001b[0m                                 Traceback (most recent call last)",
      "\u001b[1;32m<ipython-input-7-4210a9cd87f2>\u001b[0m in \u001b[0;36m<module>\u001b[1;34m\u001b[0m\n\u001b[0;32m      1\u001b[0m \u001b[1;32mdef\u001b[0m \u001b[0mprob_func\u001b[0m\u001b[1;33m(\u001b[0m\u001b[0md\u001b[0m\u001b[1;33m)\u001b[0m\u001b[1;33m:\u001b[0m\u001b[1;33m\u001b[0m\u001b[1;33m\u001b[0m\u001b[0m\n\u001b[0;32m      2\u001b[0m     \u001b[1;32mreturn\u001b[0m \u001b[1;33m(\u001b[0m\u001b[1;36m20\u001b[0m\u001b[1;33m*\u001b[0m\u001b[0mnp\u001b[0m\u001b[1;33m.\u001b[0m\u001b[0mexp\u001b[0m\u001b[1;33m(\u001b[0m\u001b[1;33m-\u001b[0m\u001b[1;36m20\u001b[0m\u001b[1;33m*\u001b[0m\u001b[1;33m(\u001b[0m\u001b[0md\u001b[0m\u001b[1;33m-\u001b[0m\u001b[1;36m12.5\u001b[0m\u001b[1;33m)\u001b[0m\u001b[1;33m)\u001b[0m\u001b[1;33m)\u001b[0m\u001b[1;33m\u001b[0m\u001b[1;33m\u001b[0m\u001b[0m\n\u001b[1;32m----> 3\u001b[1;33m \u001b[0msoln\u001b[0m\u001b[1;33m=\u001b[0m\u001b[0mquad\u001b[0m\u001b[1;33m(\u001b[0m\u001b[0mprob_func\u001b[0m\u001b[1;33m,\u001b[0m\u001b[0ma\u001b[0m\u001b[1;33m=\u001b[0m\u001b[1;36m12.6\u001b[0m\u001b[1;33m,\u001b[0m\u001b[0mb\u001b[0m\u001b[1;33m=\u001b[0m\u001b[0mnp\u001b[0m\u001b[1;33m.\u001b[0m\u001b[0minf\u001b[0m\u001b[1;33m)\u001b[0m\u001b[1;33m[\u001b[0m\u001b[1;36m0\u001b[0m\u001b[1;33m]\u001b[0m\u001b[1;33m\u001b[0m\u001b[1;33m\u001b[0m\u001b[0m\n\u001b[0m\u001b[0;32m      4\u001b[0m \u001b[1;31m#integral(PDF(d) with limits 12.6,inf)--P(X>12.6)\u001b[0m\u001b[1;33m\u001b[0m\u001b[1;33m\u001b[0m\u001b[1;33m\u001b[0m\u001b[0m\n\u001b[0;32m      5\u001b[0m \u001b[0mprint\u001b[0m\u001b[1;33m(\u001b[0m\u001b[1;34m\"The proportion of the parts with diameter greater than 12.6mm is:\"\u001b[0m\u001b[1;33m,\u001b[0m\u001b[0msoln\u001b[0m\u001b[1;33m)\u001b[0m\u001b[1;33m\u001b[0m\u001b[1;33m\u001b[0m\u001b[0m\n",
      "\u001b[1;31mNameError\u001b[0m: name 'quad' is not defined"
     ]
    }
   ],
   "source": [
    "def prob_func(d):\n",
    "    return (20*np.exp(-20*(d-12.5)))\n",
    "soln=quad(prob_func,a=12.6,b=np.inf)[0]\n",
    "#integral(PDF(d) with limits 12.6,inf)--P(X>12.6)\n",
    "print(\"The proportion of the parts with diameter greater than 12.6mm is:\",soln)\n",
    "#If d<12.5, pdf(d)=0\n",
    "print(\"The CDF when the diameter is of 11mm is 0\")\n",
    "#P(X<12.5)=0\n",
    "soln1=quad(prob_func,a=12.5,b=12.6)[0]\n",
    "print(\"The proportion of the parts between 12.5 and 12.6 is:\",soln1)\n",
    "print(\"Conclusion : The proportion of the parts greater than 12.6 is 1, and that the proportion of the parts lesser than12.5 is 0\")"
   ]
  },
  {
   "cell_type": "markdown",
   "metadata": {},
   "source": [
    "Problem Statement 5:\n",
    "\n",
    "    A company manufactures LED bulbs with a faulty rate of 30%. If I randomly select 6chosen LEDs, \n",
    "    what is the probability of having 2 faulty LEDs in my sample?\n",
    "    Calculate the average value of this process. Also evaluate the standard deviation associated with it."
   ]
  },
  {
   "cell_type": "code",
   "execution_count": 40,
   "metadata": {},
   "outputs": [
    {
     "name": "stdout",
     "output_type": "stream",
     "text": [
      "The probability of having two faulty led's in sample is 0.3239\n",
      "Mean = 1.80005\n",
      "Standard deviation = 1.1228401477948675\n"
     ]
    }
   ],
   "source": [
    "faulty_rate=0.3\n",
    "n=6\n",
    "r=2\n",
    "trails=20000\n",
    "binomial=np.random.binomial(n,faulty_rate,trails)\n",
    "probability_of_2_faulty=np.sum(binom==2)/20000\n",
    "mean=binomial.mean()\n",
    "standard_dev=binomial.std()\n",
    "print(\"The probability of having two faulty led's in sample is {}\".format(probability_of_2_faulty))\n",
    "print(\"Mean = {}\".format(mean))\n",
    "print('Standard deviation = {}'.format(standard_dev))"
   ]
  },
  {
   "cell_type": "markdown",
   "metadata": {},
   "source": [
    "Problem Statement 6:\n",
    "\n",
    "    Gaurav and Barakha are both preparing for entrance exams. Gaurav attempts to solve 8 questions per day with a correction rate of 75%, while Barakha averages around 12 questions per day with a correction rate of 45%. What is the probability that each of them will solve 5 questions correctly? What happens in cases of 4 and 6 correct solutions? What do you infer from it? What are the two main governing factors affecting their ability to solve questions correctly? Give a pictorial representation of the same to validate your answer."
   ]
  },
  {
   "cell_type": "code",
   "execution_count": 42,
   "metadata": {},
   "outputs": [
    {
     "name": "stdout",
     "output_type": "stream",
     "text": [
      "Probability of Gaurav solving 5 questions correctly = 0.21125\n",
      "Probability of Barkha solving 5 questions correctly = 0.22195\n",
      "Probability of Gaurav solving 4 questions correctly = 0.0868\n",
      "Probability of Barkha solving 4 questions correctly = 0.1687\n",
      "Probability of Gaurav solving 6 questions correctly = 0.3132\n",
      "Probability of Barkha solving 6 questions correctly = 0.21605\n"
     ]
    }
   ],
   "source": [
    "gaurav_dist=np.random.binomial(8,0.75,20000)\n",
    "barkha_dist=np.random.binomial(12,0.45,20000)\n",
    "gaurav_prob=[]\n",
    "barkha_prob=[]\n",
    "for i in range(9):\n",
    "    gaurav_prob.append(np.sum(gaurav_dist==i)/20000)\n",
    "    barkha_prob.append(np.sum(barkha_dist==i)/20000)\n",
    "print(\"Probability of Gaurav solving 5 questions correctly =\",gaurav_prob[5])\n",
    "print(\"Probability of Barkha solving 5 questions correctly =\",barkha_prob[5])\n",
    "print(\"Probability of Gaurav solving 4 questions correctly =\",gaurav_prob[4])\n",
    "print(\"Probability of Barkha solving 4 questions correctly =\",barkha_prob[4])\n",
    "print(\"Probability of Gaurav solving 6 questions correctly =\",gaurav_prob[6])\n",
    "print(\"Probability of Barkha solving 6 questions correctly =\",barkha_prob[6])"
   ]
  },
  {
   "cell_type": "code",
   "execution_count": 53,
   "metadata": {},
   "outputs": [
    {
     "data": {
      "text/plain": [
       "Text(0.5, 1.0, 'Probability distribution of Gaurav with p=0.75,n=8')"
      ]
     },
     "execution_count": 53,
     "metadata": {},
     "output_type": "execute_result"
    },
    {
     "data": {
      "image/png": "[encoded data removed]",
      "text/plain": [
       "<Figure size 432x288 with 1 Axes>"
      ]
     },
     "metadata": {
      "needs_background": "light"
     },
     "output_type": "display_data"
    }
   ],
   "source": [
    "x=[i for i in range(9)]\n",
    "plt.plot(x,gaurav_prob,color=\"Green\")\n",
    "plt.xlabel(\"Number of correct questions\")\n",
    "plt.ylabel(\"P(x)\")\n",
    "plt.title(\"Probability distribution of Gaurav with p=0.75,n=8\")"
   ]
  },
  {
   "cell_type": "code",
   "execution_count": 52,
   "metadata": {},
   "outputs": [
    {
     "data": {
      "text/plain": [
       "Text(0.5, 1.0, 'Probability distribution of Barkha with p=0.45,n=12')"
      ]
     },
     "execution_count": 52,
     "metadata": {},
     "output_type": "execute_result"
    },
    {
     "data": {
      "image/png": "[encoded data removed]",
      "text/plain": [
       "<Figure size 432x288 with 1 Axes>"
      ]
     },
     "metadata": {
      "needs_background": "light"
     },
     "output_type": "display_data"
    }
   ],
   "source": [
    "plt.plot(x,barkha_prob,color=\"Yellow\")\n",
    "plt.xlabel(\"Number of correct questions\")\n",
    "plt.ylabel(\"P(x)\")\n",
    "plt.title(\"Probability distribution of Barkha with p=0.45,n=12\")"
   ]
  },
  {
   "cell_type": "code",
   "execution_count": 51,
   "metadata": {},
   "outputs": [
    {
     "data": {
      "text/plain": [
       "Text(0.5, 1.0, 'Probability distribution of Gaurav and Barkha ')"
      ]
     },
     "execution_count": 51,
     "metadata": {},
     "output_type": "execute_result"
    },
    {
     "data": {
      "image/png": "[encoded data removed]",
      "text/plain": [
       "<Figure size 432x288 with 1 Axes>"
      ]
     },
     "metadata": {
      "needs_background": "light"
     },
     "output_type": "display_data"
    }
   ],
   "source": [
    "plt.plot(x,gaurav_prob,label=\"Gaurav\",color=\"Green\")\n",
    "plt.plot(x,barkha_prob,label=\"Barkha\",color=\"Yellow\")\n",
    "plt.xlabel(\"Number of correct questions\")\n",
    "plt.ylabel(\"P(x)\")\n",
    "plt.figlegend()\n",
    "plt.title(\"Probability distribution of Gaurav and Barkha \")"
   ]
  },
  {
   "cell_type": "markdown",
   "metadata": {},
   "source": [
    "Problem Statement 7:\n",
    "    \n",
    "    Customers arrive at a rate of 72 per hour to my shop. What is the probability of 𝑘 customers arriving in 4 minutes? a) 5 customers, b) not more than 3 customers, c) more than 3 customers. Give a pictorial representation of the same to validate your answer."
   ]
  },
  {
   "cell_type": "code",
   "execution_count": 56,
   "metadata": {},
   "outputs": [
    {
     "name": "stdout",
     "output_type": "stream",
     "text": [
      "The probability of 5 customers arriving = 0.172\n",
      "The probability of not more than 3 customers = 0.294\n",
      "The probability of more than 3 customers = 0.706\n"
     ]
    },
    {
     "data": {
      "text/plain": [
       "<matplotlib.axes._subplots.AxesSubplot at 0x23567b05860>"
      ]
     },
     "execution_count": 56,
     "metadata": {},
     "output_type": "execute_result"
    },
    {
     "data": {
      "image/png": "[encoded data removed]",
      "text/plain": [
       "<Figure size 432x288 with 1 Axes>"
      ]
     },
     "metadata": {
      "needs_background": "light"
     },
     "output_type": "display_data"
    }
   ],
   "source": [
    "mean_4mins=(72/60)*4\n",
    "dist=np.random.poisson(mean_4mins,1000)\n",
    "prob_5=np.sum(dist==5)/1000\n",
    "prob_less_than_3=np.sum(dist<=3)/1000\n",
    "prob_more_3=np.sum(dist>3)/1000\n",
    "print(\"The probability of 5 customers arriving = {}\".format(prob_5))\n",
    "print('The probability of not more than 3 customers = {}'.format(prob_less_than_3))\n",
    "print(\"The probability of more than 3 customers = {}\".format(prob_more_3))\n",
    "sns.distplot(dist,hist=False,color='purple')"
   ]
  },
  {
   "cell_type": "markdown",
   "metadata": {},
   "source": [
    "Problem Statement 8:\n",
    "    \n",
    "    I work as a data analyst in Aeon Learning Pvt. Ltd. After analyzing data, I make reports, where I have the efficiency of entering 77 words per minute with 6 errors per hour. What is the probability that I will commit 2 errors in a 455-word financial report? What happens when the no. of words increases/decreases (in case of 1000 words, 255 words)? How is the 𝜆 affected? How does it influence the PMF? Give a pictorial representation of the same to validate your answer.\n",
    "\n",
    "\n"
   ]
  },
  {
   "cell_type": "code",
   "execution_count": 58,
   "metadata": {},
   "outputs": [
    {
     "data": {
      "text/plain": [
       "Text(0, 0.5, 'Probability of two errors')"
      ]
     },
     "execution_count": 58,
     "metadata": {},
     "output_type": "execute_result"
    },
    {
     "data": {
      "image/png": "[encoded data removed]",
      "text/plain": [
       "<Figure size 432x288 with 1 Axes>"
      ]
     },
     "metadata": {
      "needs_background": "light"
     },
     "output_type": "display_data"
    }
   ],
   "source": [
    "n_errors_per_min=6/60 \n",
    "words=[100,255,455,1000,1500]\n",
    "prob=[]\n",
    "for i in words:\n",
    "    lamda=(i/77)*n_errors_per_min\n",
    "    dist=np.random.poisson(lamda,1000)\n",
    "    prob.append(np.sum(dist==2)/1000)\n",
    "plt.plot(words,prob,color=\"Orange\")\n",
    "plt.xlabel(\"Number of Words\")\n",
    "plt.ylabel(\"Probability of two errors\")"
   ]
  },
  {
   "cell_type": "raw",
   "metadata": {},
   "source": [
    "From the above graph we can infer that as the number of words increases,the probability of committing two errors also increases\n"
   ]
  },
  {
   "cell_type": "markdown",
   "metadata": {},
   "source": [
    "Problem Statement 9:\n",
    "\n",
    "    Let the continuous random variable D denote the diameter of the hole drilled in analuminum sheet. \n",
    "    The target diameter to be achieved is 12.5mm.Random disturbances in the process often result in inaccuracy.\n",
    "    Historical data shows that the distribution of D can be modelled by the PDF, f(d)=20e−20(d−12.5), d ≥ 12.5. \n",
    "    If a part with diameter > 12.6 mm needs to be scrapped,\n",
    "    what is the proportion of those parts? \n",
    "    What is the CDF when the diameter is of 11 mm?\n",
    "    What is the conclusion of this experiment?"
   ]
  },
  {
   "cell_type": "code",
   "execution_count": 59,
   "metadata": {},
   "outputs": [
    {
     "name": "stdout",
     "output_type": "stream",
     "text": [
      "The proportion of the parts with diameter greater than 12.6mm is: 0.13533528323661398\n",
      "The CDF when the diameter is of 11mm is 0\n",
      "The proportion of the parts between 12.5 and 12.6 is: 0.8646647167633718\n",
      "Conclusion : The proportion of the parts greater than 12.6 is 1, and that the proportion of the parts lesser than12.5 is 0\n"
     ]
    }
   ],
   "source": [
    "def prob_func(d):\n",
    "    return (20*np.exp(-20*(d-12.5)))\n",
    "soln=quad(prob_func,a=12.6,b=np.inf)[0]\n",
    "#integral(PDF(d) with limits 12.6,inf)--P(X>12.6)\n",
    "print(\"The proportion of the parts with diameter greater than 12.6mm is:\",soln)\n",
    "#If d<12.5, pdf(d)=0\n",
    "print(\"The CDF when the diameter is of 11mm is 0\")\n",
    "#P(X<12.5)=0\n",
    "soln1=quad(prob_func,a=12.5,b=12.6)[0]\n",
    "print(\"The proportion of the parts between 12.5 and 12.6 is:\",soln1)\n",
    "print(\"Conclusion : The proportion of the parts greater than 12.6 is 1, and that the proportion of the parts lesser than12.5 is 0\")"
   ]
  },
  {
   "cell_type": "markdown",
   "metadata": {},
   "source": [
    "Problem Statement 10:\n",
    "    \n",
    "    Please compute the following: a) P(Z > 1.26), . P(Z < −0.86), P(Z > −1.37), P(−1.25 < Z < 0.37), . P(Z ≤ −4.6) b) Find the value 𝑧 such that 𝑃(𝑍 > 𝑧) = 0.05 c) Find the value of 𝑧 such that 𝑃(−𝑧 < 𝑍 < 𝑧) = 0.99"
   ]
  },
  {
   "cell_type": "code",
   "execution_count": 67,
   "metadata": {},
   "outputs": [
    {
     "name": "stdout",
     "output_type": "stream",
     "text": [
      "P (Z>1.26) :  0.10383468112130045\n",
      "P (Z<−0.86) :  0.1948945212518084\n",
      "P (Z>−1.37) :  0.914656549178033\n",
      "P (−1.25<Z<0.37) :  0.5386589811336914\n",
      "P (Z≤−4.6) :  2.1124547024964357e-06\n",
      "Value 𝑧 such that 𝑃 (𝑍>𝑧) = 0.05 :  1.6448536269514729\n",
      "Value of 𝑧 such that 𝑃 (−𝑧<𝑍<𝑧) = 0.99 :  2.3263478740408408\n"
     ]
    }
   ],
   "source": [
    "print(\"P (Z>1.26) : \",1-(st.norm.cdf(1.26)))\n",
    "print(\"P (Z<−0.86) : \",st.norm.cdf(-0.86))\n",
    "print(\"P (Z>−1.37) : \",1-(st.norm.cdf(-1.37)))\n",
    "print(\"P (−1.25<Z<0.37) : \",(st.norm.cdf(0.37)-st.norm.cdf(-1.25)))\n",
    "print(\"P (Z≤−4.6) : \",1-(st.norm.cdf(4.6)))\n",
    "print(\"Value 𝑧 such that 𝑃 (𝑍>𝑧) = 0.05 : \",np.absolute(st.norm.ppf(0.05)))\n",
    "print(\"Value of 𝑧 such that 𝑃 (−𝑧<𝑍<𝑧) = 0.99 : \",st.norm.ppf(0.99))"
   ]
  },
  {
   "cell_type": "markdown",
   "metadata": {},
   "source": [
    "Problem Statement 11:\n",
    "    \n",
    "    The current flow in a copper wire follow a normal distribution with a mean of 10 𝑚A and a variance of 4 (𝑚𝐴)2. What is the probability that a current measurement will exceed 13 𝑚𝐴? What is the probability that a current measurement is between 9 and 11mA? Determine the current measurement which has a probability of 0.98."
   ]
  },
  {
   "cell_type": "code",
   "execution_count": 68,
   "metadata": {},
   "outputs": [
    {
     "name": "stdout",
     "output_type": "stream",
     "text": [
      "Probability when current measurement will exceed 13 𝑚𝐴: 0.06680720126885809\n",
      "probability when current measurement is between 9 and 11mA: 0.38292492254802624\n",
      "current measurement which has a probability of 0.98: 14.107497821263646\n"
     ]
    }
   ],
   "source": [
    "mean=10\n",
    "std=2\n",
    "print(\"Probability when current measurement will exceed 13 𝑚𝐴:\",1-(st.norm.cdf(x=13,loc=mean,scale=std)))\n",
    "print(\"probability when current measurement is between 9 and 11mA:\",(st.norm.cdf(x=11,loc=mean,scale=std)-st.norm.cdf(x=9,loc=mean,scale=std)))\n",
    "print(\"current measurement which has a probability of 0.98:\",st.norm.ppf(q=0.98,loc=mean,scale=std))"
   ]
  },
  {
   "cell_type": "markdown",
   "metadata": {},
   "source": [
    "Problem Statement 12: \n",
    "\n",
    "    The shaft in a piston has its diameter normally distributed with a mean of 0.2508 inch and a standard deviation of 0.0005 inch. The specifications of the shaft are 0.2500 ∓ 0.0015 inch. What proportion of shafts are in sync with the specifications? If the process is centered so that the mean is equal to the target value of 0.2500, what proportion of shafts conform to the new specifications? What is your conclusion from this experiment?"
   ]
  },
  {
   "cell_type": "code",
   "execution_count": 36,
   "metadata": {},
   "outputs": [
    {
     "name": "stdout",
     "output_type": "stream",
     "text": [
      "Proportion of shafts in sync with the specifications are: 0.91924122831152\n",
      "Proportion of shafts in sync with the specifications after the process is centered is: 0.9973002039367398\n"
     ]
    }
   ],
   "source": [
    "mean=0.2508\n",
    "std=0.0005\n",
    "l1=0.2500-0.0015\n",
    "l2=0.2500+0.0015\n",
    "print(\"Proportion of shafts in sync with the specifications are:\",\n",
    "      (st.norm.cdf(x=l2,loc=mean,scale=std)-st.norm.cdf(x=l1,loc=mean,scale=std)))\n",
    "new_mean=0.2500\n",
    "print(\"Proportion of shafts in sync with the specifications after the process is centered is:\",\n",
    "      (st.norm.cdf(x=l2,loc=new_mean,scale=std)-st.norm.cdf(x=l1,loc=new_mean,scale=std)))"
   ]
  },
  {
   "cell_type": "raw",
   "metadata": {},
   "source": [
    "Conclusion: If the mean of the shafts is centered to the mean of the specifications of the shaft the proportion of shafts which are in sync with the specification increases."
   ]
  }
 ],
 "metadata": {
  "kernelspec": {
   "display_name": "Python 3",
   "language": "python",
   "name": "python3"
  },
  "language_info": {
   "codemirror_mode": {
    "name": "ipython",
    "version": 3
   },
   "file_extension": ".py",
   "mimetype": "text/x-python",
   "name": "python",
   "nbconvert_exporter": "python",
   "pygments_lexer": "ipython3",
   "version": "3.7.1"
  }
 },
 "nbformat": 4,
 "nbformat_minor": 2
}
